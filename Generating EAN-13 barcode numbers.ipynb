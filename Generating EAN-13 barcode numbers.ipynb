{
 "cells": [
  {
   "cell_type": "markdown",
   "id": "c0b43a7e",
   "metadata": {},
   "source": [
    "##### An EAN-code consists of four parts:\n",
    "\n",
    "1) 2-3 digit Number System, or country code (with industrial counties assigned 2-digit codes and smaller or less developed countries assigned 3-digit codes.)\n",
    "\n",
    "2) 5-4 digit Manufacturer (Company) Code or prefix. (The first two parts always use the first 7 digits.)\n",
    "\n",
    "3) 5 digit Product Code.\n",
    "\n",
    "4)  Check Digit.\n",
    "\n",
    "\n",
    "##### The check digit algorithm for EAN-13\n",
    "\n",
    "4) The last digit of EAN-13 barcodes is a check digit.\n",
    "\n",
    "1) Sum all the digits in even positions and multiply by 3;\n",
    "\n",
    "2) Add all the the digits in odd positions (except for the last one which is check digit) to the number you've got;\n",
    "\n",
    "3) Divide that number by 10 and take the reminder;\n",
    "\n",
    "4) If the reminder is not 0, subtract it from 10."
   ]
  },
  {
   "cell_type": "code",
   "execution_count": 1,
   "id": "5b380490",
   "metadata": {},
   "outputs": [],
   "source": [
    "import pandas as pd"
   ]
  },
  {
   "cell_type": "code",
   "execution_count": 2,
   "id": "f2373ac7",
   "metadata": {},
   "outputs": [],
   "source": [
    "def generate_barcode(country_code, manufacturer_code, product_code_start, product_code_end):\n",
    "    \"You should enter 7 digit country code, 5 digit product code\"\n",
    "    def barcode(code): \n",
    "        i=0\n",
    "        even_positions=0\n",
    "        odd_positions=0\n",
    "        while i <=11:\n",
    "            if i %2 !=0:\n",
    "                even_positions+=int(code[i])\n",
    "            else:\n",
    "                odd_positions+=int(code[i])\n",
    "   \n",
    "            i=i+1\n",
    "        even_positions*=3\n",
    "        total=even_positions+odd_positions\n",
    "        last_digit=0\n",
    "        if total%10 !=0:\n",
    "            last_digit=10-total%10\n",
    "        else:\n",
    "            last_digit\n",
    "        return str(code)+str(last_digit)\n",
    "    \n",
    "    barcode_no=[barcode(country_code+manufacturer_code+str(i)) for i in range(int(product_code_start), int(product_code_end))]\n",
    "    frame={\"barcode\":barcode_no}\n",
    "    return pd.DataFrame(frame)"
   ]
  },
  {
   "cell_type": "code",
   "execution_count": 11,
   "id": "b784eb6c",
   "metadata": {},
   "outputs": [
    {
     "name": "stdout",
     "output_type": "stream",
     "text": [
      "Please enter country code: 34\n",
      "Please enter manufacturer_code: 56789\n",
      "Please enter where product code should start: 67890\n",
      "Please enter where product code should end: 89000\n",
      "             barcode\n",
      "0      3456789678904\n",
      "1      3456789678911\n",
      "2      3456789678928\n",
      "3      3456789678935\n",
      "4      3456789678942\n",
      "...              ...\n",
      "21105  3456789889959\n",
      "21106  3456789889966\n",
      "21107  3456789889973\n",
      "21108  3456789889980\n",
      "21109  3456789889997\n",
      "\n",
      "[21110 rows x 1 columns]\n"
     ]
    }
   ],
   "source": [
    "while True:\n",
    "    country_code=input(\"Please enter country code: \")\n",
    "    manufacturer_code=input(\"Please enter manufacturer_code: \")\n",
    "    product_code_start=input(\"Please enter where product code should start: \")\n",
    "    product_code_end=input(\"Please enter where product code should end: \")\n",
    "    print(generate_barcode(country_code, manufacturer_code,product_code_start , product_code_end))\n",
    "    if (len(country_code)==2 and len(manufacturer_code)==5 and len(product_code_start)==5 and len(product_code_end)==5) or \\\n",
    "        (len(country_code)==3 and len(manufacturer_code)==4 and len(product_code_start)==5 and len(product_code_end)==5):\n",
    "          break\n",
    "    else:\n",
    "        print(\"Oops. Please Enter correct number of digits\")"
   ]
  },
  {
   "cell_type": "code",
   "execution_count": null,
   "id": "cb4d7258",
   "metadata": {},
   "outputs": [],
   "source": []
  }
 ],
 "metadata": {
  "kernelspec": {
   "display_name": "Python 3",
   "language": "python",
   "name": "python3"
  },
  "language_info": {
   "codemirror_mode": {
    "name": "ipython",
    "version": 3
   },
   "file_extension": ".py",
   "mimetype": "text/x-python",
   "name": "python",
   "nbconvert_exporter": "python",
   "pygments_lexer": "ipython3",
   "version": "3.7.6"
  }
 },
 "nbformat": 4,
 "nbformat_minor": 5
}
