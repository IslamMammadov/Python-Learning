{
 "cells": [
  {
   "cell_type": "markdown",
   "id": "c0b43a7e",
   "metadata": {},
   "source": [
    "##### An EAN-code consists of four parts:\n",
    "\n",
    "1) 2-3 digit Number System, or country code (with industrial counties assigned 2-digit codes and smaller or less developed countries assigned 3-digit codes.)\n",
    "\n",
    "2) 5-4 digit Manufacturer (Company) Code or prefix. (The first two parts always use the first 7 digits.)\n",
    "\n",
    "3) 5 digit Product Code.\n",
    "\n",
    "4)  Check Digit.\n",
    "\n",
    "\n",
    "##### The check digit algorithm for EAN-13\n",
    "\n",
    "4) The last digit of EAN-13 barcodes is a check digit.\n",
    "\n",
    "1) Sum all the digits in even positions and multiply by 3;\n",
    "\n",
    "2) Add all the the digits in odd positions (except for the last one which is check digit) to the number you've got;\n",
    "\n",
    "3) Divide that number by 10 and take the reminder;\n",
    "\n",
    "4) If the reminder is not 0, subtract it from 10."
   ]
  },
  {
   "cell_type": "code",
   "execution_count": 2,
   "id": "5b380490",
   "metadata": {},
   "outputs": [],
   "source": [
    "import pandas as pd"
   ]
  },
  {
   "cell_type": "code",
   "execution_count": 3,
   "id": "f2373ac7",
   "metadata": {},
   "outputs": [],
   "source": [
    "def generate_barcode(country_code, manufacturer_code, product_code_start, product_code_end):\n",
    "    \"You should enter 7 digit country code, 5 digit product code\"\n",
    "    def barcode(code): \n",
    "        i=0\n",
    "        even_positions=0\n",
    "        odd_positions=0\n",
    "        while i <=11:\n",
    "            if i %2 !=0:\n",
    "                even_positions+=int(code[i])\n",
    "            else:\n",
    "                odd_positions+=int(code[i])\n",
    "   \n",
    "            i=i+1\n",
    "        even_positions*=3\n",
    "        total=even_positions+odd_positions\n",
    "        last_digit=0\n",
    "        if total%10 !=0:\n",
    "            last_digit=10-total%10\n",
    "        else:\n",
    "            last_digit\n",
    "        return str(code)+str(last_digit)\n",
    "    \n",
    "    barcode_no=[barcode(country_code+manufacturer_code+str(i)) for i in range(int(product_code_start), int(product_code_end))]\n",
    "    frame={\"barcode\":barcode_no}\n",
    "    return pd.DataFrame(frame)"
   ]
  },
  {
   "cell_type": "code",
   "execution_count": null,
   "id": "b784eb6c",
   "metadata": {},
   "outputs": [
    {
     "name": "stdout",
     "output_type": "stream",
     "text": [
      "Please enter country code: 23\n",
      "Please enter manufacturer_code: 53\n",
      "Please enter where product code should start: 54\n",
      "Please enter where product code should end: 3453\n",
      "Oops. Please Enter correct number of digits\n",
      "Please enter country code: 54564\n",
      "Please enter manufacturer_code: 7567\n",
      "Please enter where product code should start: 56764\n",
      "Please enter where product code should end: 346\n",
      "Oops. Please Enter correct number of digits\n",
      "Please enter country code: ewroe\n",
      "Please enter manufacturer_code: 25432\n",
      "Please enter where product code should start: 5234\n",
      "Please enter where product code should end: 6565\n",
      "Oops. Please Enter correct number of digits\n",
      "Please enter country code: rer\n",
      "Please enter manufacturer_code: ere\n",
      "Please enter where product code should start: qwerwq\n",
      "Please enter where product code should end: 3425\n",
      "Oops. Please Enter correct number of digits\n",
      "Please enter country code: t354\n",
      "Please enter manufacturer_code: 33\n",
      "Please enter where product code should start: 44\n",
      "Please enter where product code should end: 44\n",
      "Oops. Please Enter correct number of digits\n",
      "Please enter country code: 44\n"
     ]
    }
   ],
   "source": [
    "while True:\n",
    "    country_code=input(\"Please enter country code: \")\n",
    "    manufacturer_code=input(\"Please enter manufacturer_code: \")\n",
    "    product_code_start=input(\"Please enter where product code should start: \")\n",
    "    product_code_end=input(\"Please enter where product code should end: \")\n",
    "    if (len(country_code)==2 and len(manufacturer_code)==5 and len(product_code_start)==5 and len(product_code_end)==5) or \\\n",
    "        (len(country_code)==3 and len(manufacturer_code)==4 and len(product_code_start)==5 and len(product_code_end)==5):\n",
    "        try:\n",
    "            print(generate_barcode(country_code, manufacturer_code,product_code_start , product_code_end))\n",
    "        except:\n",
    "            print(\"Something must be woring\")\n",
    "            \n",
    "        break\n",
    "    else:\n",
    "        print(\"Oops. Please Enter correct number of digits\")"
   ]
  },
  {
   "cell_type": "code",
   "execution_count": null,
   "id": "cb4d7258",
   "metadata": {},
   "outputs": [],
   "source": []
  }
 ],
 "metadata": {
  "kernelspec": {
   "display_name": "Python 3",
   "language": "python",
   "name": "python3"
  },
  "language_info": {
   "codemirror_mode": {
    "name": "ipython",
    "version": 3
   },
   "file_extension": ".py",
   "mimetype": "text/x-python",
   "name": "python",
   "nbconvert_exporter": "python",
   "pygments_lexer": "ipython3",
   "version": "3.7.6"
  }
 },
 "nbformat": 4,
 "nbformat_minor": 5
}
