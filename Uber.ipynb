{
    "metadata": {
        "kernelspec": {
            "name": "python3",
            "display_name": "Python 3",
            "language": "python"
        },
        "language_info": {
            "name": "python",
            "version": "3.7.6",
            "mimetype": "text/x-python",
            "codemirror_mode": {
                "name": "ipython",
                "version": 3
            },
            "pygments_lexer": "ipython3",
            "nbconvert_exporter": "python",
            "file_extension": ".py"
        }
    },
    "nbformat_minor": 2,
    "nbformat": 4,
    "cells": [
        {
            "cell_type": "code",
            "source": [
                "\"\"\" Uber Trips Analysis using Python\"\"\"\r\n",
                "import pandas as pd\r\n",
                "import matplotlib.pyplot as plt \r\n",
                "import seaborn as sn\r\n",
                "import os"
            ],
            "metadata": {
                "azdata_cell_guid": "cfb36731-0c52-4bd6-8f58-980325b799dd",
                "tags": []
            },
            "outputs": [],
            "execution_count": 1
        },
        {
            "cell_type": "code",
            "source": [
                "os.chdir('C:\\\\Users\\\\Islam.Mammadov\\\\Desktop\\\\py')\r\n",
                "os.getcwd()"
            ],
            "metadata": {
                "azdata_cell_guid": "11eb14aa-c8e0-4b94-a002-e92f7644df69",
                "tags": []
            },
            "outputs": [
                {
                    "data": {
                        "text/plain": "'C:\\\\Users\\\\Islam.Mammadov\\\\Desktop\\\\py'"
                    },
                    "metadata": {},
                    "execution_count": 10,
                    "output_type": "execute_result"
                }
            ],
            "execution_count": 10
        },
        {
            "cell_type": "code",
            "source": [
                "ata=pd.read_csv(\"uber.csv\")\r\n",
                "data[\"Date/Time\"]=data[\"Date/Time\"].map(pd.to_datetime)\r\n",
                "data.head()"
            ],
            "metadata": {
                "azdata_cell_guid": "3ebfbf31-ae5a-4e7c-bf3b-274f5d536242"
            },
            "outputs": [],
            "execution_count": null
        }
    ]
}